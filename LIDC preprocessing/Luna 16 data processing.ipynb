{
 "cells": [
  {
   "cell_type": "code",
   "execution_count": 1,
   "id": "0b90c49e",
   "metadata": {},
   "outputs": [],
   "source": [
    "import os\n",
    "from glob import glob\n",
    "import SimpleITK as sitk\n",
    "from tqdm.notebook import tqdm, trange\n",
    "import shutil\n",
    "import numpy as np\n",
    "import pandas as pd"
   ]
  },
  {
   "cell_type": "code",
   "execution_count": 4,
   "id": "731a81fc",
   "metadata": {},
   "outputs": [
    {
     "name": "stdout",
     "output_type": "stream",
     "text": [
      "Collecting SimpleITK\n",
      "  Obtaining dependency information for SimpleITK from https://files.pythonhosted.org/packages/b3/e6/8510b79a8ab93248fb897c0ca3bc2c65a6cfca478ad7d5a53e950dd9b17b/SimpleITK-2.3.1-cp311-cp311-win_amd64.whl.metadata\n",
      "  Downloading SimpleITK-2.3.1-cp311-cp311-win_amd64.whl.metadata (8.0 kB)\n",
      "Downloading SimpleITK-2.3.1-cp311-cp311-win_amd64.whl (18.1 MB)\n",
      "   ---------------------------------------- 0.0/18.1 MB ? eta -:--:--\n",
      "   ---------------------------------------- 0.0/18.1 MB 1.4 MB/s eta 0:00:14\n",
      "   ---------------------------------------- 0.1/18.1 MB 1.3 MB/s eta 0:00:14\n",
      "    --------------------------------------- 0.2/18.1 MB 1.6 MB/s eta 0:00:12\n",
      "    --------------------------------------- 0.4/18.1 MB 2.0 MB/s eta 0:00:09\n",
      "   - -------------------------------------- 0.5/18.1 MB 2.3 MB/s eta 0:00:08\n",
      "   - -------------------------------------- 0.9/18.1 MB 3.1 MB/s eta 0:00:06\n",
      "   -- ------------------------------------- 1.0/18.1 MB 3.5 MB/s eta 0:00:05\n",
      "   -- ------------------------------------- 1.0/18.1 MB 3.5 MB/s eta 0:00:05\n",
      "   --- ------------------------------------ 1.4/18.1 MB 3.3 MB/s eta 0:00:06\n",
      "   --- ------------------------------------ 1.8/18.1 MB 3.8 MB/s eta 0:00:05\n",
      "   ---- ----------------------------------- 2.2/18.1 MB 4.2 MB/s eta 0:00:04\n",
      "   ----- ---------------------------------- 2.5/18.1 MB 4.5 MB/s eta 0:00:04\n",
      "   ------ --------------------------------- 2.7/18.1 MB 4.7 MB/s eta 0:00:04\n",
      "   ------- -------------------------------- 3.5/18.1 MB 5.4 MB/s eta 0:00:03\n",
      "   -------- ------------------------------- 3.9/18.1 MB 5.7 MB/s eta 0:00:03\n",
      "   --------- ------------------------------ 4.4/18.1 MB 5.9 MB/s eta 0:00:03\n",
      "   ---------- ----------------------------- 4.8/18.1 MB 6.1 MB/s eta 0:00:03\n",
      "   ----------- ---------------------------- 5.2/18.1 MB 6.3 MB/s eta 0:00:03\n",
      "   ------------ --------------------------- 5.7/18.1 MB 6.5 MB/s eta 0:00:02\n",
      "   ------------- -------------------------- 6.0/18.1 MB 6.5 MB/s eta 0:00:02\n",
      "   -------------- ------------------------- 6.4/18.1 MB 6.6 MB/s eta 0:00:02\n",
      "   --------------- ------------------------ 6.8/18.1 MB 6.7 MB/s eta 0:00:02\n",
      "   --------------- ------------------------ 6.8/18.1 MB 6.7 MB/s eta 0:00:02\n",
      "   --------------- ------------------------ 6.9/18.1 MB 6.2 MB/s eta 0:00:02\n",
      "   --------------- ------------------------ 7.1/18.1 MB 6.2 MB/s eta 0:00:02\n",
      "   ---------------- ----------------------- 7.6/18.1 MB 6.4 MB/s eta 0:00:02\n",
      "   ----------------- ---------------------- 8.0/18.1 MB 6.4 MB/s eta 0:00:02\n",
      "   ------------------ --------------------- 8.3/18.1 MB 6.4 MB/s eta 0:00:02\n",
      "   ------------------ --------------------- 8.6/18.1 MB 6.4 MB/s eta 0:00:02\n",
      "   ------------------- -------------------- 8.9/18.1 MB 6.4 MB/s eta 0:00:02\n",
      "   -------------------- ------------------- 9.2/18.1 MB 6.4 MB/s eta 0:00:02\n",
      "   -------------------- ------------------- 9.5/18.1 MB 6.4 MB/s eta 0:00:02\n",
      "   --------------------- ------------------ 9.8/18.1 MB 6.4 MB/s eta 0:00:02\n",
      "   ---------------------- ----------------- 10.1/18.1 MB 6.4 MB/s eta 0:00:02\n",
      "   ----------------------- ---------------- 10.4/18.1 MB 6.7 MB/s eta 0:00:02\n",
      "   ----------------------- ---------------- 10.7/18.1 MB 7.0 MB/s eta 0:00:02\n",
      "   ------------------------ --------------- 11.0/18.1 MB 7.0 MB/s eta 0:00:01\n",
      "   ------------------------- -------------- 11.3/18.1 MB 7.4 MB/s eta 0:00:01\n",
      "   ------------------------- -------------- 11.6/18.1 MB 7.2 MB/s eta 0:00:01\n",
      "   -------------------------- ------------- 11.9/18.1 MB 7.3 MB/s eta 0:00:01\n",
      "   -------------------------- ------------- 12.1/18.1 MB 7.3 MB/s eta 0:00:01\n",
      "   --------------------------- ------------ 12.5/18.1 MB 7.2 MB/s eta 0:00:01\n",
      "   --------------------------- ------------ 12.6/18.1 MB 7.1 MB/s eta 0:00:01\n",
      "   --------------------------- ------------ 12.6/18.1 MB 7.1 MB/s eta 0:00:01\n",
      "   --------------------------- ------------ 12.6/18.1 MB 7.1 MB/s eta 0:00:01\n",
      "   --------------------------- ------------ 12.6/18.1 MB 7.1 MB/s eta 0:00:01\n",
      "   --------------------------- ------------ 12.6/18.1 MB 7.1 MB/s eta 0:00:01\n",
      "   --------------------------- ------------ 12.6/18.1 MB 7.1 MB/s eta 0:00:01\n",
      "   --------------------------- ------------ 12.6/18.1 MB 7.1 MB/s eta 0:00:01\n",
      "   --------------------------- ------------ 12.6/18.1 MB 7.1 MB/s eta 0:00:01\n",
      "   --------------------------- ------------ 12.6/18.1 MB 7.1 MB/s eta 0:00:01\n",
      "   --------------------------- ------------ 12.6/18.1 MB 7.1 MB/s eta 0:00:01\n",
      "   --------------------------- ------------ 12.6/18.1 MB 7.1 MB/s eta 0:00:01\n",
      "   --------------------------- ------------ 12.6/18.1 MB 7.1 MB/s eta 0:00:01\n",
      "   --------------------------- ------------ 12.6/18.1 MB 7.1 MB/s eta 0:00:01\n",
      "   --------------------------- ------------ 12.6/18.1 MB 7.1 MB/s eta 0:00:01\n",
      "   --------------------------- ------------ 12.6/18.1 MB 7.1 MB/s eta 0:00:01\n",
      "   --------------------------- ------------ 12.6/18.1 MB 7.1 MB/s eta 0:00:01\n",
      "   --------------------------- ------------ 12.6/18.1 MB 7.1 MB/s eta 0:00:01\n",
      "   --------------------------- ------------ 12.6/18.1 MB 7.1 MB/s eta 0:00:01\n",
      "   --------------------------- ------------ 12.6/18.1 MB 7.1 MB/s eta 0:00:01\n",
      "   --------------------------- ------------ 12.6/18.1 MB 7.1 MB/s eta 0:00:01\n",
      "   --------------------------- ------------ 12.6/18.1 MB 7.1 MB/s eta 0:00:01\n",
      "   --------------------------- ------------ 12.6/18.1 MB 7.1 MB/s eta 0:00:01\n",
      "   --------------------------- ------------ 12.6/18.1 MB 7.1 MB/s eta 0:00:01\n",
      "   --------------------------- ------------ 12.6/18.1 MB 7.1 MB/s eta 0:00:01\n",
      "   ---------------------------- ----------- 12.8/18.1 MB 4.0 MB/s eta 0:00:02\n",
      "   ---------------------------- ----------- 12.9/18.1 MB 4.0 MB/s eta 0:00:02\n",
      "   ---------------------------- ----------- 12.9/18.1 MB 4.0 MB/s eta 0:00:02\n",
      "   ---------------------------- ----------- 13.1/18.1 MB 3.9 MB/s eta 0:00:02\n",
      "   ----------------------------- ---------- 13.3/18.1 MB 3.8 MB/s eta 0:00:02\n",
      "   ----------------------------- ---------- 13.3/18.1 MB 3.8 MB/s eta 0:00:02\n",
      "   ----------------------------- ---------- 13.5/18.1 MB 3.7 MB/s eta 0:00:02\n",
      "   ------------------------------ --------- 13.7/18.1 MB 3.6 MB/s eta 0:00:02\n",
      "   ------------------------------ --------- 13.9/18.1 MB 3.6 MB/s eta 0:00:02\n",
      "   ------------------------------- -------- 14.0/18.1 MB 3.6 MB/s eta 0:00:02\n",
      "   ------------------------------- -------- 14.2/18.1 MB 3.5 MB/s eta 0:00:02\n",
      "   ------------------------------- -------- 14.4/18.1 MB 3.5 MB/s eta 0:00:02\n",
      "   -------------------------------- ------- 14.6/18.1 MB 3.5 MB/s eta 0:00:02\n",
      "   -------------------------------- ------- 14.7/18.1 MB 3.4 MB/s eta 0:00:01\n",
      "   -------------------------------- ------- 14.7/18.1 MB 3.4 MB/s eta 0:00:01\n",
      "   -------------------------------- ------- 14.7/18.1 MB 3.4 MB/s eta 0:00:01\n",
      "   -------------------------------- ------- 14.7/18.1 MB 3.4 MB/s eta 0:00:01\n",
      "   -------------------------------- ------- 14.7/18.1 MB 3.4 MB/s eta 0:00:01\n",
      "   -------------------------------- ------- 14.7/18.1 MB 3.4 MB/s eta 0:00:01\n",
      "   -------------------------------- ------- 14.7/18.1 MB 3.4 MB/s eta 0:00:01\n",
      "   -------------------------------- ------- 14.7/18.1 MB 3.4 MB/s eta 0:00:01\n",
      "   -------------------------------- ------- 14.7/18.1 MB 3.4 MB/s eta 0:00:01\n",
      "   -------------------------------- ------- 14.7/18.1 MB 3.4 MB/s eta 0:00:01\n",
      "   -------------------------------- ------- 14.7/18.1 MB 3.4 MB/s eta 0:00:01\n",
      "   -------------------------------- ------- 14.7/18.1 MB 3.4 MB/s eta 0:00:01\n",
      "   -------------------------------- ------- 14.7/18.1 MB 3.4 MB/s eta 0:00:01\n",
      "   -------------------------------- ------- 14.7/18.1 MB 3.4 MB/s eta 0:00:01\n",
      "   -------------------------------- ------- 14.7/18.1 MB 3.4 MB/s eta 0:00:01\n",
      "   -------------------------------- ------- 14.7/18.1 MB 3.4 MB/s eta 0:00:01\n",
      "   -------------------------------- ------- 14.7/18.1 MB 3.4 MB/s eta 0:00:01\n",
      "   -------------------------------- ------- 14.7/18.1 MB 3.4 MB/s eta 0:00:01\n",
      "   -------------------------------- ------- 14.7/18.1 MB 3.4 MB/s eta 0:00:01\n",
      "   -------------------------------- ------- 14.7/18.1 MB 3.4 MB/s eta 0:00:01\n",
      "   -------------------------------- ------- 14.7/18.1 MB 3.4 MB/s eta 0:00:01\n",
      "   -------------------------------- ------- 14.8/18.1 MB 2.6 MB/s eta 0:00:02\n",
      "   --------------------------------- ------ 15.0/18.1 MB 2.6 MB/s eta 0:00:02\n",
      "   --------------------------------- ------ 15.2/18.1 MB 2.5 MB/s eta 0:00:02\n",
      "   --------------------------------- ------ 15.3/18.1 MB 2.5 MB/s eta 0:00:02\n",
      "   ---------------------------------- ----- 15.5/18.1 MB 2.5 MB/s eta 0:00:02\n",
      "   ---------------------------------- ----- 15.7/18.1 MB 2.5 MB/s eta 0:00:01\n",
      "   ----------------------------------- ---- 15.9/18.1 MB 2.5 MB/s eta 0:00:01\n",
      "   ----------------------------------- ---- 16.1/18.1 MB 2.5 MB/s eta 0:00:01\n",
      "   ------------------------------------ --- 16.3/18.1 MB 2.5 MB/s eta 0:00:01\n",
      "   ------------------------------------ --- 16.5/18.1 MB 2.4 MB/s eta 0:00:01\n",
      "   ------------------------------------ --- 16.7/18.1 MB 2.4 MB/s eta 0:00:01\n",
      "   ------------------------------------- -- 16.9/18.1 MB 2.4 MB/s eta 0:00:01\n",
      "   ------------------------------------- -- 17.0/18.1 MB 2.4 MB/s eta 0:00:01\n",
      "   -------------------------------------- - 17.2/18.1 MB 2.4 MB/s eta 0:00:01\n",
      "   -------------------------------------- - 17.4/18.1 MB 2.4 MB/s eta 0:00:01\n",
      "   ---------------------------------------  17.6/18.1 MB 2.4 MB/s eta 0:00:01\n",
      "   ---------------------------------------  17.8/18.1 MB 2.4 MB/s eta 0:00:01\n",
      "   ---------------------------------------  18.0/18.1 MB 2.4 MB/s eta 0:00:01\n",
      "   ---------------------------------------  18.1/18.1 MB 2.4 MB/s eta 0:00:01\n",
      "   ---------------------------------------  18.1/18.1 MB 2.4 MB/s eta 0:00:01\n",
      "   ---------------------------------------  18.1/18.1 MB 2.4 MB/s eta 0:00:01\n",
      "   ---------------------------------------  18.1/18.1 MB 2.4 MB/s eta 0:00:01\n",
      "   ---------------------------------------  18.1/18.1 MB 2.4 MB/s eta 0:00:01\n",
      "   ---------------------------------------  18.1/18.1 MB 2.4 MB/s eta 0:00:01\n",
      "   ---------------------------------------  18.1/18.1 MB 2.4 MB/s eta 0:00:01\n",
      "   ---------------------------------------- 18.1/18.1 MB 2.2 MB/s eta 0:00:00\n",
      "Installing collected packages: SimpleITK\n",
      "Successfully installed SimpleITK-2.3.1\n"
     ]
    }
   ],
   "source": [
    "!pip install SimpleITK"
   ]
  },
  {
   "cell_type": "markdown",
   "id": "74baef8e",
   "metadata": {},
   "source": [
    "# Processing mhd to nii files"
   ]
  },
  {
   "cell_type": "code",
   "execution_count": 24,
   "id": "6e34dafd",
   "metadata": {},
   "outputs": [
    {
     "name": "stdout",
     "output_type": "stream",
     "text": [
      "No. of Image Files : 88\n"
     ]
    }
   ],
   "source": [
    "img_dir = 'E:/Tanvir Mehedi/Luna 16 Dataset/subset9'\n",
    "img_list = glob(img_dir + '/*mhd')\n",
    "\n",
    "print('No. of Image Files :', len(img_list))"
   ]
  },
  {
   "cell_type": "code",
   "execution_count": 25,
   "id": "6ed446f1",
   "metadata": {},
   "outputs": [
    {
     "data": {
      "application/vnd.jupyter.widget-view+json": {
       "model_id": "b41f1ba61df24da7b4c0cf5ddf4ccf38",
       "version_major": 2,
       "version_minor": 0
      },
      "text/plain": [
       "  0%|          | 0/88 [00:00<?, ?it/s]"
      ]
     },
     "metadata": {},
     "output_type": "display_data"
    }
   ],
   "source": [
    "WORKING_DIR = \"Luna_16_nii\"\n",
    "    \n",
    "for i in tqdm(range(len(img_list))):\n",
    "    img = sitk.ReadImage(img_list[i])\n",
    "    \n",
    "    # Extract the file name without the path\n",
    "    file_name = os.path.basename(img_list[i])\n",
    "    \n",
    "    # Create the full output path in the WORKING_DIR with the same file name and a new extension\n",
    "    output_path = os.path.join(WORKING_DIR, file_name.replace('.mhd', '.nii'))\n",
    "    \n",
    "    sitk.WriteImage(img, output_path)"
   ]
  },
  {
   "cell_type": "markdown",
   "id": "994ffca0",
   "metadata": {},
   "source": [
    "# HU coverting to 500-(-1000)"
   ]
  },
  {
   "cell_type": "code",
   "execution_count": 4,
   "id": "46da0381",
   "metadata": {},
   "outputs": [
    {
     "name": "stdout",
     "output_type": "stream",
     "text": [
      "Normalization and saving completed for all files.\n"
     ]
    }
   ],
   "source": [
    "def normalizePlanes(npzarray):\n",
    "    maxHU = 500.0\n",
    "    minHU = -1000.0\n",
    "    npzarray = (npzarray - minHU) / (maxHU - minHU)\n",
    "    npzarray[npzarray > 1] = 1.0\n",
    "    npzarray[npzarray < 0] = 0.0\n",
    "    return npzarray\n",
    "\n",
    "input_folder = 'E:/ATM_lung_cancer/Luna_16_cropped_resampled_no_hu/'\n",
    "output_folder = 'E:/ATM_lung_cancer/Luna_16_hu_from_crop/'\n",
    "\n",
    "# List all NIfTI files in the input folder\n",
    "nifti_files = [file for file in os.listdir(input_folder) if file.endswith('.nii')]\n",
    "\n",
    "for nifti_file in nifti_files:\n",
    "    input_path = os.path.join(input_folder, nifti_file)\n",
    "    output_path = os.path.join(output_folder, nifti_file)\n",
    "\n",
    "    ds = sitk.ReadImage(input_path)\n",
    "    image_array = sitk.GetArrayFromImage(ds)\n",
    "\n",
    "    normalized_slices = []\n",
    "    for slice in image_array:         \n",
    "        normalized_slices.append(normalizePlanes(slice))\n",
    "    normalized_array = np.array(normalized_slices)\n",
    "\n",
    "    normalized_img = sitk.GetImageFromArray(normalized_array)\n",
    "    normalized_img.CopyInformation(ds)\n",
    "\n",
    "    sitk.WriteImage(normalized_img, output_path)\n",
    "\n",
    "print(\"Normalization and saving completed for all files.\")"
   ]
  },
  {
   "cell_type": "markdown",
   "id": "886a51af",
   "metadata": {},
   "source": [
    "# Calculating number of slices to update csv file"
   ]
  },
  {
   "cell_type": "code",
   "execution_count": 29,
   "id": "691ffc12",
   "metadata": {
    "scrolled": true
   },
   "outputs": [
    {
     "name": "stdout",
     "output_type": "stream",
     "text": [
      "       Subject ID                                         Series Uid  \\\n",
      "0  LIDC-IDRI-0001  1.3.6.1.4.1.14519.5.2.1.6279.6001.179049373636...   \n",
      "1  LIDC-IDRI-0003  1.3.6.1.4.1.14519.5.2.1.6279.6001.170706757615...   \n",
      "2  LIDC-IDRI-0003  1.3.6.1.4.1.14519.5.2.1.6279.6001.170706757615...   \n",
      "3  LIDC-IDRI-0003  1.3.6.1.4.1.14519.5.2.1.6279.6001.170706757615...   \n",
      "4  LIDC-IDRI-0004  1.3.6.1.4.1.14519.5.2.1.6279.6001.323541312620...   \n",
      "\n",
      "   diameter  x loc  y loc  slice no  Radiologist1  Radiologist2  Radiologist3  \\\n",
      "0    23.107    317    367        43           5.0           5.0           4.0   \n",
      "1     9.208    308    198        57           4.0           2.0           3.0   \n",
      "2    13.058    221    219        56           4.0           2.0           3.0   \n",
      "3    21.201    367    350        65           5.0           5.0           3.0   \n",
      "4     4.811    142    323       165           1.0           2.0           1.0   \n",
      "\n",
      "   Radiologist4  Number of Slices  \n",
      "0           NaN               133  \n",
      "1           NaN               140  \n",
      "2           NaN               140  \n",
      "3           NaN               140  \n",
      "4           NaN               241  \n"
     ]
    }
   ],
   "source": [
    "df= pd.read_excel('lidc_malignancy_mappedwith_LUNA_final.xlsx')\n",
    "\n",
    "\n",
    "# Function to get the number of slices from a NIfTI file\n",
    "def get_number_of_slices(nifti_path):\n",
    "    image = sitk.ReadImage(nifti_path)\n",
    "    image_size = image.GetSize()\n",
    "    total_slices = image_size[2]\n",
    "    return total_slices\n",
    "\n",
    "# Iterate through the DataFrame rows and calculate the number of slices for each scan number\n",
    "df['Number of Slices'] = df.apply(lambda row: get_number_of_slices(f'E:/ATM_lung_cancer/Luna_16_final_hu/{row[\"Series Uid\"]}.nii'), axis=1)\n",
    "# Display the DataFrame\n",
    "print(df[:5])"
   ]
  },
  {
   "cell_type": "code",
   "execution_count": 30,
   "id": "0ae79220",
   "metadata": {},
   "outputs": [],
   "source": [
    "df.to_excel('Luna_16_with_z_loc.xlsx', index=False)"
   ]
  },
  {
   "cell_type": "markdown",
   "id": "1e8223c7",
   "metadata": {},
   "source": [
    "# Files that does not belong to excel sheet"
   ]
  },
  {
   "cell_type": "code",
   "execution_count": 50,
   "id": "dcf4d8d2",
   "metadata": {},
   "outputs": [
    {
     "name": "stdout",
     "output_type": "stream",
     "text": [
      "Files not in Excel: ['1.3.6.1.4.1.14519.5.2.1.6279.6001.105756658031515062000744821260', '1.3.6.1.4.1.14519.5.2.1.6279.6001.122763913896761494371822656720', '1.3.6.1.4.1.14519.5.2.1.6279.6001.126121460017257137098781143514', '1.3.6.1.4.1.14519.5.2.1.6279.6001.139713436241461669335487719526', '1.3.6.1.4.1.14519.5.2.1.6279.6001.144438612068946916340281098509', '1.3.6.1.4.1.14519.5.2.1.6279.6001.146429221666426688999739595820', '1.3.6.1.4.1.14519.5.2.1.6279.6001.194465340552956447447896167830', '1.3.6.1.4.1.14519.5.2.1.6279.6001.210837812047373739447725050963', '1.3.6.1.4.1.14519.5.2.1.6279.6001.231645134739451754302647733304', '1.3.6.1.4.1.14519.5.2.1.6279.6001.238522526736091851696274044574', '1.3.6.1.4.1.14519.5.2.1.6279.6001.250438451287314206124484591986', '1.3.6.1.4.1.14519.5.2.1.6279.6001.269689294231892620436462818860', '1.3.6.1.4.1.14519.5.2.1.6279.6001.278660284797073139172446973682', '1.3.6.1.4.1.14519.5.2.1.6279.6001.280972147860943609388015648430', '1.3.6.1.4.1.14519.5.2.1.6279.6001.302134342469412607966016057827', '1.3.6.1.4.1.14519.5.2.1.6279.6001.310626494937915759224334597176', '1.3.6.1.4.1.14519.5.2.1.6279.6001.311981398931043315779172047718', '1.3.6.1.4.1.14519.5.2.1.6279.6001.332453873575389860371315979768', '1.3.6.1.4.1.14519.5.2.1.6279.6001.397062004302272014259317520874', '1.3.6.1.4.1.14519.5.2.1.6279.6001.564534197011295112247542153557', '1.3.6.1.4.1.14519.5.2.1.6279.6001.657775098760536289051744981056', '1.3.6.1.4.1.14519.5.2.1.6279.6001.975254950136384517744116790879']\n",
      "Number of files not in Excel: 22\n"
     ]
    }
   ],
   "source": [
    "# Load Excel file\n",
    "\n",
    "df_excel = pd.read_excel('lidc_malignancy_mappedwith_LUNA.xlsx')\n",
    "\n",
    "# Directory containing NII files\n",
    "nii_directory = 'F:/subset0_nii_hu'\n",
    "\n",
    "# Get a list of NII files in the directory (remove .nii extension)\n",
    "nii_files = [os.path.splitext(f)[0] for f in os.listdir(nii_directory) if f.endswith('.nii')]\n",
    "\n",
    "# Get unique Series Uid values from the Excel file\n",
    "excel_series_uids = set(df_excel['Series Uid'].astype(str))\n",
    "\n",
    "# Find files in the directory that are not in the Excel file\n",
    "files_not_in_excel = [file for file in nii_files if file not in excel_series_uids]\n",
    "\n",
    "# Display the result\n",
    "print(f\"Files not in Excel: {files_not_in_excel}\")\n",
    "print(f\"Number of files not in Excel: {len(files_not_in_excel)}\")\n"
   ]
  },
  {
   "cell_type": "markdown",
   "id": "c13d872c",
   "metadata": {},
   "source": [
    "# Resampling and cropping"
   ]
  },
  {
   "cell_type": "code",
   "execution_count": 3,
   "id": "dd0f3213",
   "metadata": {},
   "outputs": [],
   "source": [
    "import pandas as pd\n",
    "\n",
    "excel_file_path = 'Luna_16_with_z_loc.xlsx'\n",
    "\n",
    "# Output directory for cropped images\n",
    "output_path = 'E:/ATM_lung_cancer/Luna_16_cropped_resampled_no_hu/'\n",
    "\n",
    "# Read the Excel file\n",
    "df = pd.read_excel(excel_file_path)\n",
    "\n",
    "# Loop through the rows in the DataFrame\n",
    "for index, row in df.iterrows():\n",
    "    original_nodule_location = (row['x loc'], row['y loc'], row['z loc'])\n",
    "    width = 32\n",
    "    w = int(width / 2)\n",
    "\n",
    "    # Find the NIfTI file matching the scan number\n",
    "    nifti_file_paths = glob('E:/ATM_lung_cancer/Luna_16_final_nii/{}.nii'.format(row['Series Uid']))\n",
    "    \n",
    "    if len(nifti_file_paths) == 1:\n",
    "        nifti_file_path = nifti_file_paths[0]\n",
    "        image = sitk.ReadImage(nifti_file_path)\n",
    "        \n",
    "        # Define the desired target voxel size\n",
    "        target_spacing = [0.7, 0.7, 1]\n",
    "\n",
    "        # Create a resampling filter\n",
    "        resampler = sitk.ResampleImageFilter()\n",
    "        resampler.SetOutputSpacing(target_spacing)\n",
    "\n",
    "        # Calculate the new size based on the ratio of original and target spacings\n",
    "        original_spacing = image.GetSpacing()\n",
    "        new_size = [int(sz * (spc / target_sp) + 0.5) for sz, spc, target_sp in zip(image.GetSize(), original_spacing, target_spacing)]\n",
    "        resampler.SetSize(new_size)\n",
    "\n",
    "        resampler.SetOutputDirection(image.GetDirection())\n",
    "        resampler.SetOutputOrigin(image.GetOrigin())\n",
    "        resampler.SetInterpolator(sitk.sitkLinear)\n",
    " \n",
    "        # Execute the resampling\n",
    "        resampled_image = resampler.Execute(image)\n",
    "\n",
    "        # Convert the original nodule location to physical coordinates in the original image\n",
    "        original_nodule_location_physical = image.TransformIndexToPhysicalPoint(original_nodule_location)\n",
    "\n",
    "        # Transform the original nodule location to the new voxel space\n",
    "        new_nodule_location_index = resampled_image.TransformPhysicalPointToIndex(original_nodule_location_physical)\n",
    "\n",
    "        # Convert the index to integer voxel coordinates\n",
    "        new_nodule_location_voxel_units = [int(round(index)) for index in new_nodule_location_index]\n",
    "        \n",
    "        # Crop the region around the specified coordinates\n",
    "        resampled_image_cropped = resampled_image[new_nodule_location_voxel_units[0]-w:new_nodule_location_voxel_units[0]+w,\n",
    "                                           new_nodule_location_voxel_units[1]-w:new_nodule_location_voxel_units[1]+w,\n",
    "                                           new_nodule_location_voxel_units[2]-w:new_nodule_location_voxel_units[2]+w]\n",
    "\n",
    "\n",
    "        # Create output directory if it doesn't exist\n",
    "        os.makedirs(output_path, exist_ok=True)\n",
    "\n",
    "        # Create a unique identifier based on the index\n",
    "        output_file_name = '{}_{}.nii'.format(row['Series Uid'], index)\n",
    "\n",
    "        # Save the cropped image with the unique identifier\n",
    "        output_file_path = os.path.join(output_path, output_file_name)\n",
    "        sitk.WriteImage(resampled_image_cropped, output_file_path)\n",
    "\n",
    "    else:\n",
    "        print(\"NIfTI file not found for scan number:\", row['Series Uid'])"
   ]
  },
  {
   "cell_type": "code",
   "execution_count": 4,
   "id": "5d3a38a5",
   "metadata": {},
   "outputs": [
    {
     "name": "stdout",
     "output_type": "stream",
     "text": [
      "E:/ATM_lung_cancer/Luna_16_final_hu/1.3.6.1.4.1.14519.5.2.1.6279.6001.300270516469599170290456821227.nii\n"
     ]
    }
   ],
   "source": [
    "print( nifti_file_path)"
   ]
  },
  {
   "cell_type": "code",
   "execution_count": null,
   "id": "26915ad7",
   "metadata": {},
   "outputs": [],
   "source": []
  }
 ],
 "metadata": {
  "kernelspec": {
   "display_name": "Python 3 (ipykernel)",
   "language": "python",
   "name": "python3"
  },
  "language_info": {
   "codemirror_mode": {
    "name": "ipython",
    "version": 3
   },
   "file_extension": ".py",
   "mimetype": "text/x-python",
   "name": "python",
   "nbconvert_exporter": "python",
   "pygments_lexer": "ipython3",
   "version": "3.9.12"
  }
 },
 "nbformat": 4,
 "nbformat_minor": 5
}
