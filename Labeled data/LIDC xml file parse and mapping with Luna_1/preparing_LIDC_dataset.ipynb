{
 "cells": [
  {
   "cell_type": "code",
   "execution_count": 56,
   "id": "19aaa1bb",
   "metadata": {},
   "outputs": [],
   "source": [
    "import os\n",
    "import xml.etree.ElementTree as ET\n",
    "import pandas as pd"
   ]
  },
  {
   "cell_type": "markdown",
   "id": "fd409a45",
   "metadata": {},
   "source": [
    "# extracting info from a series of xml files"
   ]
  },
  {
   "cell_type": "code",
   "execution_count": null,
   "id": "699cd30d",
   "metadata": {},
   "outputs": [],
   "source": [
    "def process_xml(xml_path):\n",
    "    tree = ET.parse(xml_path)\n",
    "    root = tree.getroot()\n",
    "\n",
    "    data_list = []\n",
    "\n",
    "    for reading_session in root.findall('.//{http://www.nih.gov}readingSession'):\n",
    "        nodule_ids = []\n",
    "        malignancy_scores = []\n",
    "\n",
    "        for nodule_element in reading_session.findall('.//{http://www.nih.gov}unblindedReadNodule'):\n",
    "            nodule_id_element = nodule_element.find('.//{http://www.nih.gov}noduleID')\n",
    "            malignancy_element = nodule_element.find('.//{http://www.nih.gov}malignancy')\n",
    "\n",
    "            if nodule_id_element is not None and malignancy_element is not None:\n",
    "                nodule_id = nodule_id_element.text\n",
    "                malignancy = malignancy_element.text\n",
    "                nodule_ids.append(nodule_id)\n",
    "                malignancy_scores.append(malignancy)\n",
    "\n",
    "        if nodule_ids and malignancy_scores:\n",
    "            series_instance_uid = root.find('.//{http://www.nih.gov}SeriesInstanceUid').text\n",
    "            data_list.append({\n",
    "                'SeriesInstanceUid': series_instance_uid,\n",
    "                'Nodule ID': nodule_ids,\n",
    "                'Malignancy': malignancy_scores\n",
    "            })\n",
    "\n",
    "    return data_list\n",
    "\n",
    "input_folder = 'E:/4-1/BME 400/lung/LIDC data/LIDC-XML-only/tcia-lidc-xml'\n",
    "output_excel = 'malignancy_data_with_uid.xlsx'\n",
    "\n",
    "all_data_list = []\n",
    "\n",
    "for folder_name in os.listdir(input_folder):\n",
    "    folder_path = os.path.join(input_folder, folder_name)\n",
    "    if os.path.isdir(folder_path):\n",
    "        for xml_file in os.listdir(folder_path):\n",
    "            if xml_file.endswith('.xml'):\n",
    "                xml_path = os.path.join(folder_path, xml_file)\n",
    "                xml_data = process_xml(xml_path)\n",
    "                all_data_list.extend(xml_data)\n",
    "\n",
    "df_list = []\n",
    "for data in all_data_list:\n",
    "    num_nodules = len(data['Nodule ID'])\n",
    "    series_instance_uids = [data['SeriesInstanceUid']] * num_nodules\n",
    "    df_list.append(pd.DataFrame({\n",
    "        'SeriesInstanceUid': series_instance_uids,\n",
    "        'Nodule ID': data['Nodule ID'],\n",
    "        'Malignancy': data['Malignancy']\n",
    "    }))\n",
    "\n",
    "final_df = pd.concat(df_list, ignore_index=True)\n",
    "\n",
    "# Save DataFrame to an Excel file\n",
    "final_df.to_excel(output_excel, index=False)"
   ]
  },
  {
   "cell_type": "markdown",
   "id": "ce71c298",
   "metadata": {},
   "source": [
    "# final lidc csv"
   ]
  },
  {
   "cell_type": "code",
   "execution_count": 8,
   "id": "8ff92235",
   "metadata": {},
   "outputs": [],
   "source": [
    "csv1_df = pd.read_csv('merged_data_with_seriesuid.csv')\n",
    "csv2_df = pd.read_excel('malignancy_data_with_uid.xlsx')\n",
    "#csv1_df=csv1_df[0:20]\n"
   ]
  },
  {
   "cell_type": "code",
   "execution_count": 9,
   "id": "cc47cacb",
   "metadata": {},
   "outputs": [],
   "source": [
    "csv4_data = []\n",
    "for i in range(len(csv1_df['seriesuid'])):\n",
    "    seriesID1 = csv1_df['seriesuid'][i]\n",
    "    #print(csv1_df['SeriesUid'][i])\n",
    "    nodule_id1 = csv1_df.iloc[i, 9:13].tolist()\n",
    "    #print(nodule_id1)\n",
    "    csv4_row = []\n",
    "    subject_id = \"LIDC-IDRI-{:04d}\".format(csv1_df.iloc[i, 0])  # Format subject ID\n",
    "    csv4_row.append(subject_id)\n",
    "    csv4_row.append(seriesID1)\n",
    "    csv4_row.append(csv1_df.iloc[i, 4])\n",
    "    csv4_row.append(csv1_df.iloc[i, 5])\n",
    "    csv4_row.append(csv1_df.iloc[i, 6])\n",
    "    csv4_row.append(csv1_df.iloc[i, 7])\n",
    "    \n",
    "    for id1 in nodule_id1:\n",
    "        id1_str = str(id1)\n",
    "        \n",
    "        matches = csv2_df[(csv2_df['SeriesInstanceUid'] == seriesID1) & (csv2_df['Nodule ID'] == id1_str)]\n",
    "        \n",
    "        if not matches.empty:\n",
    "            csv4_row.append(matches.iloc[0]['Malignancy']) # Assuming the Malignancy value from the first match\n",
    "        else:\n",
    "            csv4_row.append('N/A')  # Handle the case when id1 is not found\n",
    "    \n",
    "    csv4_data.append(csv4_row)\n",
    "\n",
    "    \n",
    "csv4_df = pd.DataFrame(csv4_data, columns=['Subject ID','Series Uid','diameter','x loc','y loc','slice no','Radiologist1', 'Radiologist2', 'Radiologist3', 'Radiologist4'])\n",
    "\n",
    "# Save csv3 DataFrame to a new csv file\n",
    "csv4_df.to_csv('LIDC_malignancy.csv', index=False) \n",
    "            \n",
    "    "
   ]
  },
  {
   "cell_type": "code",
   "execution_count": null,
   "id": "c52514d2",
   "metadata": {},
   "outputs": [],
   "source": []
  }
 ],
 "metadata": {
  "kernelspec": {
   "display_name": "Python 3 (ipykernel)",
   "language": "python",
   "name": "python3"
  },
  "language_info": {
   "codemirror_mode": {
    "name": "ipython",
    "version": 3
   },
   "file_extension": ".py",
   "mimetype": "text/x-python",
   "name": "python",
   "nbconvert_exporter": "python",
   "pygments_lexer": "ipython3",
   "version": "3.9.12"
  }
 },
 "nbformat": 4,
 "nbformat_minor": 5
}
