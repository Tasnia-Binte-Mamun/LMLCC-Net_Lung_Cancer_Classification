{
 "cells": [
  {
   "cell_type": "code",
   "execution_count": 1,
   "id": "1b6b35f3",
   "metadata": {},
   "outputs": [
    {
     "name": "stdout",
     "output_type": "stream",
     "text": [
      "Series Uid modified and saved to Luna_16_modified_series_uid.xlsx\n"
     ]
    }
   ],
   "source": [
    "import pandas as pd\n",
    "\n",
    "input_file = 'Luna_16_with_z_loc.xlsx'\n",
    "output_file = 'Luna_16_modified_series_uid.xlsx'\n",
    "\n",
    "# Read the Excel file\n",
    "df = pd.read_excel(input_file)\n",
    "\n",
    "# Modify the Series Uid column\n",
    "df['Series Uid'] = df.apply(lambda row: f\"{row['Series Uid']}_{row.name}\", axis=1)\n",
    "\n",
    "# Write the modified data to a new Excel file\n",
    "df.to_excel(output_file, index=False)\n",
    "\n",
    "print(f\"Series Uid modified and saved to {output_file}\")\n"
   ]
  },
  {
   "cell_type": "code",
   "execution_count": null,
   "id": "29dbf6a8",
   "metadata": {},
   "outputs": [],
   "source": []
  }
 ],
 "metadata": {
  "kernelspec": {
   "display_name": "Python 3 (ipykernel)",
   "language": "python",
   "name": "python3"
  },
  "language_info": {
   "codemirror_mode": {
    "name": "ipython",
    "version": 3
   },
   "file_extension": ".py",
   "mimetype": "text/x-python",
   "name": "python",
   "nbconvert_exporter": "python",
   "pygments_lexer": "ipython3",
   "version": "3.9.12"
  }
 },
 "nbformat": 4,
 "nbformat_minor": 5
}
