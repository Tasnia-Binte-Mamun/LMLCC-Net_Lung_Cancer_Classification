{
 "cells": [
  {
   "cell_type": "code",
   "execution_count": 1,
   "id": "935843d3",
   "metadata": {},
   "outputs": [],
   "source": [
    "import pandas as pd"
   ]
  },
  {
   "cell_type": "code",
   "execution_count": 5,
   "id": "c7bacdb0",
   "metadata": {},
   "outputs": [],
   "source": [
    "# Load the Excel file into a pandas DataFrame\n",
    "excel_file_path = 'E:/4-2/BME 400/lung/thesis 4-2/Luna_16_modified_series_uid.xlsx'\n",
    "df = pd.read_excel(excel_file_path)\n",
    "\n",
    "# Define a function to determine malignancy based on the conditions\n",
    "def calculate_malignancy(row):\n",
    "    greater_3 = (row[['Radiologist1', 'Radiologist2', 'Radiologist3', 'Radiologist4']] > 3).sum()\n",
    "    equal_3 = (row[['Radiologist1', 'Radiologist2', 'Radiologist3', 'Radiologist4']] == 3).sum()\n",
    "    less_3 = ((row[['Radiologist1', 'Radiologist2', 'Radiologist3', 'Radiologist4']]>0) & (row[['Radiologist1', 'Radiologist2', 'Radiologist3', 'Radiologist4']] < 3)).sum()\n",
    "    nan_row = (row[['Radiologist1', 'Radiologist2', 'Radiologist3', 'Radiologist4']]== 0).sum()\n",
    "\n",
    "        \n",
    "    if (nan_row==0 and greater_3 > 2):\n",
    "        return 1\n",
    "\n",
    "    elif (nan_row==0 and less_3 >2):\n",
    "        return 0\n",
    "   \n",
    "    \n",
    "    elif (nan_row==0 and equal_3 == 1 and  greater_3 >= 2):\n",
    "        return 1\n",
    "\n",
    "    elif (nan_row==0 and equal_3 == 1 and less_3 >=2):\n",
    "        return 0\n",
    "    \n",
    "           \n",
    "        \n",
    "    elif (nan_row==1 and greater_3 >= 2):\n",
    "        return 1\n",
    "    elif (nan_row==1 and less_3 >= 2):\n",
    "        return 0\n",
    "    \n",
    "    elif (nan_row==1 and equal_3 == 1 and greater_3 == 2 ):\n",
    "        return 1\n",
    "    elif (nan_row==1 and equal_3 == 1 and less_3 == 2 ):\n",
    "        return 0\n",
    "             \n",
    "    \n",
    "    elif (nan_row==2 and greater_3 == 2):\n",
    "        return 1\n",
    "    elif (nan_row==2 and less_3 == 2):\n",
    "        return 0    \n",
    "        \n",
    "    else:\n",
    "        return 'N/A'\n",
    "    \n",
    "\n",
    "# Apply the function to create the new 'malignancy' column\n",
    "df['malignancy'] = df.apply(calculate_malignancy, axis=1)\n",
    "\n",
    "# Save the updated DataFrame to a new Excel file\n",
    "new_file_path = 'new_file_with_malignancy.xlsx'\n",
    "df.to_excel(new_file_path, index=False)"
   ]
  },
  {
   "cell_type": "code",
   "execution_count": 46,
   "id": "51d5cb06",
   "metadata": {},
   "outputs": [],
   "source": [
    "\n",
    "excel_file_path = 'E:/4-2/BME 400/lung/thesis 4-2/new_file_with_malignancy.xlsx'\n",
    "df = pd.read_excel(excel_file_path)\n",
    "\n",
    "# Drop rows containing any \"N/A\" values\n",
    "df_cleaned = df.dropna(axis=0, how='any', inplace=False)\n",
    "\n",
    "# Save the cleaned DataFrame to a new Excel file\n",
    "new_file_path = 'final_Luna16.xlsx'\n",
    "df_cleaned.to_excel(new_file_path, index=False)"
   ]
  },
  {
   "cell_type": "code",
   "execution_count": null,
   "id": "ac311e8e",
   "metadata": {},
   "outputs": [],
   "source": []
  },
  {
   "cell_type": "code",
   "execution_count": 47,
   "id": "b291bab8",
   "metadata": {},
   "outputs": [
    {
     "name": "stdout",
     "output_type": "stream",
     "text": [
      "Number of marked rows: 612\n"
     ]
    }
   ],
   "source": [
    "from openpyxl import Workbook\n",
    "from openpyxl.styles import PatternFill\n",
    "from openpyxl.utils.dataframe import dataframe_to_rows\n",
    "\n",
    "# Load the Excel files into pandas DataFrames\n",
    "file_a = 'E:/4-2/BME 400/lung/thesis 4-2/Luna_16_modified_series_uid.xlsx'\n",
    "file_b = 'E:/4-2/BME 400/lung/thesis 4-2/final_Luna16.xlsx'\n",
    "df_a = pd.read_excel(file_a)\n",
    "df_b = pd.read_excel(file_b)\n",
    "\n",
    "# Compare the first 6 columns of a.xlsx to b.xlsx and mark absent rows with red\n",
    "columns_to_compare = ['Series Uid', 'diameter']\n",
    "absent_rows_mask = ~df_a[columns_to_compare].apply(tuple, axis=1).isin(df_b[columns_to_compare].apply(tuple, axis=1))\n",
    "\n",
    "# Create a new Workbook\n",
    "workbook = Workbook()\n",
    "ws = workbook.active\n",
    "\n",
    "# Write the DataFrame to Excel\n",
    "for row in dataframe_to_rows(df_a, index=False, header=True):\n",
    "    ws.append(row)\n",
    "\n",
    "# Count the number of marked rows\n",
    "marked_rows_count = 0\n",
    "\n",
    "# Apply styling to the entire row for the mismatched rows\n",
    "for row_idx, is_absent in enumerate(absent_rows_mask):\n",
    "    if is_absent:\n",
    "        marked_rows_count += 1\n",
    "        for col_idx, value in enumerate(df_a.columns, 1):\n",
    "            cell = ws.cell(row=row_idx + 2, column=col_idx)\n",
    "            cell.fill = PatternFill(start_color=\"FFFF00\", end_color=\"FFFF00\", fill_type=\"solid\")\n",
    "\n",
    "# Save the workbook to a new Excel file final_Luna16_withMalignancy.xlsx\n",
    "workbook.save('Luna_16_modified_series_uid_MARKED.xlsx')\n",
    "\n",
    "# Print the number of marked rows\n",
    "print(f'Number of marked rows: {marked_rows_count}')\n"
   ]
  },
  {
   "cell_type": "code",
   "execution_count": 44,
   "id": "5ff45fd9",
   "metadata": {},
   "outputs": [
    {
     "name": "stdout",
     "output_type": "stream",
     "text": [
      "Number of mismatched cells: 0\n"
     ]
    }
   ],
   "source": [
    "# Load the Excel files into pandas DataFrames\n",
    "file_a = 'E:/4-2/BME 400/lung/thesis 4-2/Luna_16_modified_series_uid.xlsx'\n",
    "file_b = 'E:/4-2/BME 400/lung/thesis 4-2/Luna_16_modified_series_uid_MARKED.xlsx'\n",
    "df_a = pd.read_excel(file_a)\n",
    "df_b = pd.read_excel(file_b)\n",
    "\n",
    "# Count the number of mismatched cells\n",
    "mismatched_cells_count = 0\n",
    "\n",
    "for col in df_a.columns:\n",
    "    for index, value_a in enumerate(df_a[col]):\n",
    "        value_b = df_b.at[index, col]\n",
    "        if value_a != value_b:\n",
    "            mismatched_cells_count += 1\n",
    "\n",
    "# Print the number of mismatched cells\n",
    "print(f'Number of mismatched cells: {mismatched_cells_count}')"
   ]
  },
  {
   "cell_type": "markdown",
   "id": "fca5022a",
   "metadata": {},
   "source": [
    "\n",
    "\n",
    "        \n",
    "    if nan_opinion == 0:\n",
    "        if ((greater_3 > 2) or (equal_3 == 1 and greater_3 >= 2)) :\n",
    "            return 1\n",
    "        elif ((less_3 > 2) or (equal_3 == 1 and less_3 >= 2)):\n",
    "            return 0\n",
    "\n",
    "    elif nan_opinion == 1:\n",
    "        if ((greater_3 >= 2) or (equal_3 == 1 and greater_3 == 2)):\n",
    "            return 1\n",
    "        elif ((less_3 >= 2) or (equal_3 == 1 and less_3 == 2)):\n",
    "            return 0\n",
    "\n",
    "    elif nan_opinion == 2:\n",
    "        if greater_3 == 2:\n",
    "            return 1\n",
    "        elif less_3 == 2:\n",
    "            return 0\n",
    "    \n",
    "    else:\n",
    "        return 'N/A'\n",
    "    \n"
   ]
  },
  {
   "cell_type": "code",
   "execution_count": null,
   "id": "b0cfd0e3",
   "metadata": {},
   "outputs": [],
   "source": []
  }
 ],
 "metadata": {
  "kernelspec": {
   "display_name": "Python 3 (ipykernel)",
   "language": "python",
   "name": "python3"
  },
  "language_info": {
   "codemirror_mode": {
    "name": "ipython",
    "version": 3
   },
   "file_extension": ".py",
   "mimetype": "text/x-python",
   "name": "python",
   "nbconvert_exporter": "python",
   "pygments_lexer": "ipython3",
   "version": "3.9.12"
  }
 },
 "nbformat": 4,
 "nbformat_minor": 5
}
