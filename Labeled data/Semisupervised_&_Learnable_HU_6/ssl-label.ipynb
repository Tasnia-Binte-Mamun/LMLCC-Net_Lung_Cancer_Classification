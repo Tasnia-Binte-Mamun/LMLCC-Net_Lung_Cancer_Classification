{
 "cells": [
  {
   "cell_type": "code",
   "execution_count": 1,
   "metadata": {
    "execution": {
     "iopub.execute_input": "2024-08-20T13:14:25.522023Z",
     "iopub.status.busy": "2024-08-20T13:14:25.521366Z",
     "iopub.status.idle": "2024-08-20T13:15:03.247497Z",
     "shell.execute_reply": "2024-08-20T13:15:03.245764Z",
     "shell.execute_reply.started": "2024-08-20T13:14:25.521971Z"
    }
   },
   "outputs": [
    {
     "name": "stdout",
     "output_type": "stream",
     "text": [
      "Requirement already satisfied: nibabel in /opt/conda/lib/python3.10/site-packages (5.2.1)\n",
      "Requirement already satisfied: numpy>=1.20 in /opt/conda/lib/python3.10/site-packages (from nibabel) (1.26.4)\n",
      "Requirement already satisfied: packaging>=17 in /opt/conda/lib/python3.10/site-packages (from nibabel) (21.3)\n",
      "Requirement already satisfied: pyparsing!=3.0.5,>=2.0.2 in /opt/conda/lib/python3.10/site-packages (from packaging>=17->nibabel) (3.1.1)\n",
      "Requirement already satisfied: seaborn in /opt/conda/lib/python3.10/site-packages (0.12.2)\n",
      "Requirement already satisfied: numpy!=1.24.0,>=1.17 in /opt/conda/lib/python3.10/site-packages (from seaborn) (1.26.4)\n",
      "Requirement already satisfied: pandas>=0.25 in /opt/conda/lib/python3.10/site-packages (from seaborn) (2.2.2)\n",
      "Requirement already satisfied: matplotlib!=3.6.1,>=3.1 in /opt/conda/lib/python3.10/site-packages (from seaborn) (3.7.5)\n",
      "Requirement already satisfied: contourpy>=1.0.1 in /opt/conda/lib/python3.10/site-packages (from matplotlib!=3.6.1,>=3.1->seaborn) (1.2.0)\n",
      "Requirement already satisfied: cycler>=0.10 in /opt/conda/lib/python3.10/site-packages (from matplotlib!=3.6.1,>=3.1->seaborn) (0.12.1)\n",
      "Requirement already satisfied: fonttools>=4.22.0 in /opt/conda/lib/python3.10/site-packages (from matplotlib!=3.6.1,>=3.1->seaborn) (4.47.0)\n",
      "Requirement already satisfied: kiwisolver>=1.0.1 in /opt/conda/lib/python3.10/site-packages (from matplotlib!=3.6.1,>=3.1->seaborn) (1.4.5)\n",
      "Requirement already satisfied: packaging>=20.0 in /opt/conda/lib/python3.10/site-packages (from matplotlib!=3.6.1,>=3.1->seaborn) (21.3)\n",
      "Requirement already satisfied: pillow>=6.2.0 in /opt/conda/lib/python3.10/site-packages (from matplotlib!=3.6.1,>=3.1->seaborn) (9.5.0)\n",
      "Requirement already satisfied: pyparsing>=2.3.1 in /opt/conda/lib/python3.10/site-packages (from matplotlib!=3.6.1,>=3.1->seaborn) (3.1.1)\n",
      "Requirement already satisfied: python-dateutil>=2.7 in /opt/conda/lib/python3.10/site-packages (from matplotlib!=3.6.1,>=3.1->seaborn) (2.9.0.post0)\n",
      "Requirement already satisfied: pytz>=2020.1 in /opt/conda/lib/python3.10/site-packages (from pandas>=0.25->seaborn) (2023.3.post1)\n",
      "Requirement already satisfied: tzdata>=2022.7 in /opt/conda/lib/python3.10/site-packages (from pandas>=0.25->seaborn) (2023.4)\n",
      "Requirement already satisfied: six>=1.5 in /opt/conda/lib/python3.10/site-packages (from python-dateutil>=2.7->matplotlib!=3.6.1,>=3.1->seaborn) (1.16.0)\n",
      "Requirement already satisfied: openpyxl in /opt/conda/lib/python3.10/site-packages (3.1.5)\n",
      "Requirement already satisfied: et-xmlfile in /opt/conda/lib/python3.10/site-packages (from openpyxl) (1.1.0)\n"
     ]
    }
   ],
   "source": [
    "!pip install nibabel\n",
    "!pip install seaborn\n",
    "!pip install openpyxl"
   ]
  },
  {
   "cell_type": "code",
   "execution_count": 2,
   "metadata": {
    "execution": {
     "iopub.execute_input": "2024-08-20T13:15:03.249952Z",
     "iopub.status.busy": "2024-08-20T13:15:03.249625Z",
     "iopub.status.idle": "2024-08-20T13:15:16.987352Z",
     "shell.execute_reply": "2024-08-20T13:15:16.986352Z",
     "shell.execute_reply.started": "2024-08-20T13:15:03.249924Z"
    }
   },
   "outputs": [
    {
     "name": "stderr",
     "output_type": "stream",
     "text": [
      "2024-08-20 13:15:05.203068: E external/local_xla/xla/stream_executor/cuda/cuda_dnn.cc:9261] Unable to register cuDNN factory: Attempting to register factory for plugin cuDNN when one has already been registered\n",
      "2024-08-20 13:15:05.203195: E external/local_xla/xla/stream_executor/cuda/cuda_fft.cc:607] Unable to register cuFFT factory: Attempting to register factory for plugin cuFFT when one has already been registered\n",
      "2024-08-20 13:15:05.347162: E external/local_xla/xla/stream_executor/cuda/cuda_blas.cc:1515] Unable to register cuBLAS factory: Attempting to register factory for plugin cuBLAS when one has already been registered\n"
     ]
    }
   ],
   "source": [
    "import keras\n",
    "from keras.models import Sequential\n",
    "from keras.layers import Dense, Dropout, Activation, Flatten,Input\n",
    "from keras.layers import Convolution3D,Conv3D,Add,concatenate, MaxPool3D,add, Convolution2D,BatchNormalization, GlobalAveragePooling3D, ZeroPadding3D\n",
    "from tensorflow.keras.layers import Input, Conv3D, BatchNormalization, MaxPool3D, Flatten, Dense, Dropout, concatenate, Lambda, Layer\n",
    "from keras import backend as K\n",
    "import cv2\n",
    "import operator\n",
    "import os\n",
    "import numpy as np\n",
    "import tensorflow as tf\n",
    "from tensorflow.keras.datasets import cifar10\n",
    "from tensorflow.keras.preprocessing.image import ImageDataGenerator\n",
    "import glob\n",
    "import matplotlib.pyplot as plt\n",
    "from sklearn.model_selection import train_test_split\n",
    "from tensorflow.keras.callbacks import ModelCheckpoint, EarlyStopping\n",
    "from keras.optimizers import SGD\n",
    "import nibabel as nib\n",
    "import pandas as pd\n",
    "from scipy.ndimage import rotate\n",
    "import random\n",
    "import nibabel as nib\n",
    "from tensorflow.keras.applications.resnet50 import ResNet50\n",
    "from tensorflow.keras.models import Model\n",
    "from sklearn.metrics import roc_auc_score, confusion_matrix, classification_report\n",
    "import seaborn as sns\n",
    "import numpy as np\n",
    "import nibabel as nib\n",
    "from matplotlib import animation, rc\n",
    "from scipy.ndimage import rotate\n",
    "import glob\n",
    "import os\n",
    "from sklearn.model_selection import KFold, StratifiedKFold,train_test_split\n",
    "from scipy.ndimage import zoom\n",
    "from matplotlib.patches import PathPatch, Rectangle\n",
    "from IPython.display import HTML\n",
    "from tensorflow.keras import layers\n",
    "\n",
    "from tensorflow.keras.layers import Input, Conv3D, BatchNormalization, MaxPool3D, Flatten, Dense, Dropout, concatenate, Lambda, Layer\n",
    "from tensorflow.keras.models import Model\n",
    "import tensorflow as tf"
   ]
  },
  {
   "cell_type": "markdown",
   "metadata": {},
   "source": [
    "### LUNA Load"
   ]
  },
  {
   "cell_type": "code",
   "execution_count": 3,
   "metadata": {
    "execution": {
     "iopub.execute_input": "2024-08-20T13:15:16.989644Z",
     "iopub.status.busy": "2024-08-20T13:15:16.988847Z",
     "iopub.status.idle": "2024-08-20T13:15:18.167796Z",
     "shell.execute_reply": "2024-08-20T13:15:18.166722Z",
     "shell.execute_reply.started": "2024-08-20T13:15:16.989613Z"
    }
   },
   "outputs": [
    {
     "name": "stdout",
     "output_type": "stream",
     "text": [
      "(557,)\n"
     ]
    }
   ],
   "source": [
    "luna_df = pd.read_excel('/kaggle/input/spie-cropped-resampled-dataset/final_Luna16.xlsx')\n",
    "column_luna = 'malignancy'\n",
    "luna_series=luna_df['Series Uid'].tolist()\n",
    "\n",
    "luna_folder = '/kaggle/input/spie-cropped-resampled-dataset/Luna_16_cropped_resampled/Luna_16_cropped_resampled'  \n",
    "luna = []\n",
    "for i in luna_series:\n",
    "    nii_file_path = os.path.join(luna_folder, f'{i}.nii')  # Assuming NII files have the extension '.nii'\n",
    "    \n",
    "    if os.path.exists(nii_file_path):\n",
    "        luna.append(i)\n",
    "luna=np.array(luna)\n",
    "\n",
    "print(luna.shape)"
   ]
  },
  {
   "cell_type": "code",
   "execution_count": 4,
   "metadata": {
    "execution": {
     "iopub.execute_input": "2024-08-20T13:15:18.170886Z",
     "iopub.status.busy": "2024-08-20T13:15:18.170069Z",
     "iopub.status.idle": "2024-08-20T13:15:18.349164Z",
     "shell.execute_reply": "2024-08-20T13:15:18.348263Z",
     "shell.execute_reply.started": "2024-08-20T13:15:18.170856Z"
    }
   },
   "outputs": [
    {
     "name": "stdout",
     "output_type": "stream",
     "text": [
      "612\n"
     ]
    }
   ],
   "source": [
    "luna_semi_df = pd.read_excel('/kaggle/input/spie-cropped-resampled-dataset/unlabeled_data_Luna.xlsx')\n",
    "#column_name = 'malignancy'\n",
    "col_scan='Series Uid'\n",
    "\n",
    "luna_semi_scan = luna_semi_df[col_scan].tolist()\n",
    "\n",
    "scans1=[]\n",
    "for i in luna_semi_scan:\n",
    "    scans1.append(i)\n",
    "\n",
    "luna_semi=np.array(scans1)\n",
    "print(len(luna_semi))"
   ]
  },
  {
   "cell_type": "code",
   "execution_count": 5,
   "metadata": {
    "execution": {
     "iopub.execute_input": "2024-08-20T13:15:18.350635Z",
     "iopub.status.busy": "2024-08-20T13:15:18.350346Z",
     "iopub.status.idle": "2024-08-20T13:15:26.375241Z",
     "shell.execute_reply": "2024-08-20T13:15:26.374283Z",
     "shell.execute_reply.started": "2024-08-20T13:15:18.350611Z"
    }
   },
   "outputs": [
    {
     "name": "stdout",
     "output_type": "stream",
     "text": [
      "(611, 32, 32, 32)\n"
     ]
    }
   ],
   "source": [
    "datas_luna_semi=[]\n",
    "scans_luna_semi=[]\n",
    "\n",
    "for i in luna_semi:\n",
    "    img_files = glob.glob(os.path.join(\"/kaggle/input/spie-cropped-resampled-dataset/Luna_16_cropped_resampled/Luna_16_cropped_resampled/\",i +\"*.nii\"))\n",
    "\n",
    "    for img_file in img_files:\n",
    "        img = nib.load(img_file)\n",
    "        data = img.get_fdata()\n",
    "        datas_luna_semi.append(data)\n",
    "        scans_luna_semi.append(i)\n",
    "\n",
    "X_luna_semi = np.array(datas_luna_semi)\n",
    "z_luna_semi= np.array(scans_luna_semi)\n",
    "\n",
    "print(X_luna_semi.shape)"
   ]
  },
  {
   "cell_type": "markdown",
   "metadata": {},
   "source": [
    "### Fixed Test"
   ]
  },
  {
   "cell_type": "code",
   "execution_count": 6,
   "metadata": {
    "execution": {
     "iopub.execute_input": "2024-08-20T13:15:26.376961Z",
     "iopub.status.busy": "2024-08-20T13:15:26.376527Z",
     "iopub.status.idle": "2024-08-20T13:15:26.489174Z",
     "shell.execute_reply": "2024-08-20T13:15:26.488083Z",
     "shell.execute_reply.started": "2024-08-20T13:15:26.376926Z"
    }
   },
   "outputs": [
    {
     "name": "stdout",
     "output_type": "stream",
     "text": [
      "                                   luna fixed test set\n",
      "0    1.3.6.1.4.1.14519.5.2.1.6279.6001.202283133206...\n",
      "1    1.3.6.1.4.1.14519.5.2.1.6279.6001.200725988589...\n",
      "2    1.3.6.1.4.1.14519.5.2.1.6279.6001.321935195060...\n",
      "3    1.3.6.1.4.1.14519.5.2.1.6279.6001.245248446973...\n",
      "4    1.3.6.1.4.1.14519.5.2.1.6279.6001.222052723822...\n",
      "..                                                 ...\n",
      "107  1.3.6.1.4.1.14519.5.2.1.6279.6001.275755514659...\n",
      "108  1.3.6.1.4.1.14519.5.2.1.6279.6001.877026508860...\n",
      "109  1.3.6.1.4.1.14519.5.2.1.6279.6001.187966156856...\n",
      "110  1.3.6.1.4.1.14519.5.2.1.6279.6001.131939324905...\n",
      "111  1.3.6.1.4.1.14519.5.2.1.6279.6001.204802250386...\n",
      "\n",
      "[112 rows x 1 columns]\n"
     ]
    }
   ],
   "source": [
    "# Path to the Excel file\n",
    "file_path = '/kaggle/input/semi-testtrainval/test_train_vai_set.xlsx'\n",
    "\n",
    "# Load the first column from the Excel sheet\n",
    "luna_fixed_test = pd.read_excel(file_path, usecols=[0])\n",
    "\n",
    "# Remove NaN values\n",
    "luna_fixed_test = luna_fixed_test.dropna()\n",
    "\n",
    "# Display the cleaned DataFrame to verify\n",
    "print(luna_fixed_test)\n"
   ]
  },
  {
   "cell_type": "code",
   "execution_count": 7,
   "metadata": {
    "execution": {
     "iopub.execute_input": "2024-08-20T13:15:26.490835Z",
     "iopub.status.busy": "2024-08-20T13:15:26.490515Z",
     "iopub.status.idle": "2024-08-20T13:15:26.498964Z",
     "shell.execute_reply": "2024-08-20T13:15:26.497858Z",
     "shell.execute_reply.started": "2024-08-20T13:15:26.490808Z"
    }
   },
   "outputs": [
    {
     "data": {
      "text/plain": [
       "112"
      ]
     },
     "execution_count": 7,
     "metadata": {},
     "output_type": "execute_result"
    }
   ],
   "source": [
    "len(luna_fixed_test)"
   ]
  },
  {
   "cell_type": "code",
   "execution_count": 8,
   "metadata": {
    "execution": {
     "iopub.execute_input": "2024-08-20T13:15:26.500491Z",
     "iopub.status.busy": "2024-08-20T13:15:26.500176Z",
     "iopub.status.idle": "2024-08-20T13:15:27.856245Z",
     "shell.execute_reply": "2024-08-20T13:15:27.855233Z",
     "shell.execute_reply.started": "2024-08-20T13:15:26.500467Z"
    }
   },
   "outputs": [
    {
     "name": "stdout",
     "output_type": "stream",
     "text": [
      "(112, 32, 32, 32)\n"
     ]
    }
   ],
   "source": [
    "datas_luna_fixed_test=[]\n",
    "labels_luna_fixed_test=[]\n",
    "scans_luna_fixed_test = []\n",
    "\n",
    "for i in luna_fixed_test.iloc[:, 0]:  # Assuming i is a value in the first column\n",
    "    matching_rows = luna_df.loc[luna_df['Series Uid'] == i, 'malignancy']\n",
    "    \n",
    "    if not matching_rows.empty:\n",
    "        lab = matching_rows.values[0]\n",
    "        img_files = glob.glob(os.path.join(\n",
    "            \"/kaggle/input/spie-cropped-resampled-dataset/Luna_16_cropped_resampled/Luna_16_cropped_resampled/\",\n",
    "            i + \"*.nii\"\n",
    "        ))\n",
    "\n",
    "        for img_file in img_files:\n",
    "            img = nib.load(img_file)\n",
    "            data = img.get_fdata()\n",
    "            datas_luna_fixed_test.append(data)\n",
    "            labels_luna_fixed_test.append(lab)\n",
    "            scans_luna_fixed_test.append(i)\n",
    "    else:\n",
    "        print(f\"No matching Series Uid found for: {i}\")\n",
    "X_luna_fixed_test = np.array(datas_luna_fixed_test)\n",
    "y_luna_fixed_test = np.array(labels_luna_fixed_test)\n",
    "z_luna_fixed_test= np.array(scans_luna_fixed_test)\n",
    "\n",
    "print(X_luna_fixed_test.shape)"
   ]
  },
  {
   "cell_type": "markdown",
   "metadata": {},
   "source": [
    "### 1st train"
   ]
  },
  {
   "cell_type": "code",
   "execution_count": 9,
   "metadata": {
    "execution": {
     "iopub.execute_input": "2024-08-20T13:15:27.857940Z",
     "iopub.status.busy": "2024-08-20T13:15:27.857573Z",
     "iopub.status.idle": "2024-08-20T13:15:35.846587Z",
     "shell.execute_reply": "2024-08-20T13:15:35.845653Z",
     "shell.execute_reply.started": "2024-08-20T13:15:27.857913Z"
    }
   },
   "outputs": [
    {
     "name": "stderr",
     "output_type": "stream",
     "text": [
      "/opt/conda/lib/python3.10/site-packages/keras/src/layers/convolutional/base_conv.py:107: UserWarning: Do not pass an `input_shape`/`input_dim` argument to a layer. When using Sequential models, prefer using an `Input(shape)` object as the first layer in the model instead.\n",
      "  super().__init__(activity_regularizer=activity_regularizer, **kwargs)\n"
     ]
    },
    {
     "name": "stdout",
     "output_type": "stream",
     "text": [
      "\u001b[1m3/4\u001b[0m \u001b[32m━━━━━━━━━━━━━━━\u001b[0m\u001b[37m━━━━━\u001b[0m \u001b[1m0s\u001b[0m 43ms/step - accuracy: 0.8924 - loss: 0.3350"
     ]
    },
    {
     "name": "stderr",
     "output_type": "stream",
     "text": [
      "WARNING: All log messages before absl::InitializeLog() is called are written to STDERR\n",
      "I0000 00:00:1724159734.062296     117 device_compiler.h:186] Compiled cluster using XLA!  This line is logged at most once for the lifetime of the process.\n"
     ]
    },
    {
     "name": "stdout",
     "output_type": "stream",
     "text": [
      "\u001b[1m4/4\u001b[0m \u001b[32m━━━━━━━━━━━━━━━━━━━━\u001b[0m\u001b[37m\u001b[0m \u001b[1m6s\u001b[0m 578ms/step - accuracy: 0.8854 - loss: 0.3438\n"
     ]
    }
   ],
   "source": [
    "best_model1 = tf.keras.models.load_model('/kaggle/input/semi-testtrainval/semiSupervised_HU1.h5')\n",
    "best_model1.compile(optimizer='adam', loss='binary_crossentropy', metrics=['accuracy'])\n",
    "loss1, accuracy1 = best_model1.evaluate(X_luna_fixed_test, y_luna_fixed_test)   "
   ]
  },
  {
   "cell_type": "code",
   "execution_count": 10,
   "metadata": {
    "execution": {
     "iopub.execute_input": "2024-08-20T13:15:35.851647Z",
     "iopub.status.busy": "2024-08-20T13:15:35.851370Z",
     "iopub.status.idle": "2024-08-20T13:15:39.754003Z",
     "shell.execute_reply": "2024-08-20T13:15:39.753061Z",
     "shell.execute_reply.started": "2024-08-20T13:15:35.851623Z"
    }
   },
   "outputs": [
    {
     "name": "stdout",
     "output_type": "stream",
     "text": [
      "\u001b[1m20/20\u001b[0m \u001b[32m━━━━━━━━━━━━━━━━━━━━\u001b[0m\u001b[37m\u001b[0m \u001b[1m4s\u001b[0m 121ms/step\n",
      "202 409\n"
     ]
    }
   ],
   "source": [
    "\n",
    "\n",
    "correct_predictions1 = []\n",
    "incorrect_predictions1 = []\n",
    "\n",
    "predictions = best_model1.predict(X_luna_semi)\n",
    "for i in range(len(X_luna_semi)):\n",
    "    if predictions[i] > 0.9:\n",
    "        correct_predictions1.append((z_luna_semi[i], 1))\n",
    "    elif predictions[i] < 0.1:\n",
    "        correct_predictions1.append((z_luna_semi[i], 0))\n",
    "    else:\n",
    "        incorrect_predictions1.append(z_luna_semi[i])\n",
    "\n",
    "print(len(incorrect_predictions1),len(correct_predictions1))\n",
    "        \n",
    "# Create a DataFrame with 'scan' and 'malignancy' columns\n",
    "df_correct_predictions1 = pd.DataFrame(correct_predictions1, columns=['scan', 'malignancy'])\n",
    "\n",
    "scan_identifiers_z_train2 = np.array([item[0] for item in correct_predictions1])"
   ]
  },
  {
   "cell_type": "code",
   "execution_count": 11,
   "metadata": {
    "execution": {
     "iopub.execute_input": "2024-08-20T13:15:39.755358Z",
     "iopub.status.busy": "2024-08-20T13:15:39.755061Z",
     "iopub.status.idle": "2024-08-20T13:15:39.760767Z",
     "shell.execute_reply": "2024-08-20T13:15:39.759575Z",
     "shell.execute_reply.started": "2024-08-20T13:15:39.755335Z"
    }
   },
   "outputs": [],
   "source": [
    "df_correct_predictions1 = pd.DataFrame(correct_predictions1, columns=['scan', 'malignancy'])"
   ]
  },
  {
   "cell_type": "markdown",
   "metadata": {},
   "source": [
    "### 2nd Train"
   ]
  },
  {
   "cell_type": "code",
   "execution_count": 12,
   "metadata": {
    "execution": {
     "iopub.execute_input": "2024-08-20T13:15:39.762108Z",
     "iopub.status.busy": "2024-08-20T13:15:39.761842Z",
     "iopub.status.idle": "2024-08-20T13:15:40.912631Z",
     "shell.execute_reply": "2024-08-20T13:15:40.911654Z",
     "shell.execute_reply.started": "2024-08-20T13:15:39.762085Z"
    }
   },
   "outputs": [
    {
     "name": "stdout",
     "output_type": "stream",
     "text": [
      "(202, 32, 32, 32)\n"
     ]
    }
   ],
   "source": [
    "datas_semi = []\n",
    "labels_semi = []\n",
    "scans_semi = []\n",
    "\n",
    "for i in incorrect_predictions1:\n",
    "        img_files = glob.glob(os.path.join(\"/kaggle/input/spie-cropped-resampled-dataset/Luna_16_cropped_resampled/Luna_16_cropped_resampled/\", i + \"*.nii\"))\n",
    "\n",
    "        for img_file in img_files:\n",
    "            img = nib.load(img_file)\n",
    "            data = img.get_fdata()\n",
    "            datas_semi.append(data)\n",
    "            scans_semi.append(i)\n",
    "\n",
    "X_semi2 = np.array(datas_semi)\n",
    "z_semi2 = np.array(scans_semi)\n",
    "\n",
    "print(X_semi2.shape)\n"
   ]
  },
  {
   "cell_type": "code",
   "execution_count": 13,
   "metadata": {
    "execution": {
     "iopub.execute_input": "2024-08-20T13:15:40.914125Z",
     "iopub.status.busy": "2024-08-20T13:15:40.913835Z",
     "iopub.status.idle": "2024-08-20T13:15:45.014402Z",
     "shell.execute_reply": "2024-08-20T13:15:45.013477Z",
     "shell.execute_reply.started": "2024-08-20T13:15:40.914100Z"
    }
   },
   "outputs": [
    {
     "name": "stdout",
     "output_type": "stream",
     "text": [
      "\u001b[1m4/4\u001b[0m \u001b[32m━━━━━━━━━━━━━━━━━━━━\u001b[0m\u001b[37m\u001b[0m \u001b[1m3s\u001b[0m 270ms/step - accuracy: 0.8368 - loss: 0.5326\n"
     ]
    }
   ],
   "source": [
    "best_model2 = tf.keras.models.load_model('/kaggle/input/semi-testtrainval/semiSupervised_HU2.h5')\n",
    "best_model2.compile(optimizer='adam', loss='binary_crossentropy', metrics=['accuracy'])\n",
    "loss2, accuracy2 = best_model2.evaluate(X_luna_fixed_test, y_luna_fixed_test)"
   ]
  },
  {
   "cell_type": "code",
   "execution_count": 14,
   "metadata": {
    "execution": {
     "iopub.execute_input": "2024-08-20T13:15:45.016486Z",
     "iopub.status.busy": "2024-08-20T13:15:45.015851Z",
     "iopub.status.idle": "2024-08-20T13:15:48.332440Z",
     "shell.execute_reply": "2024-08-20T13:15:48.331466Z",
     "shell.execute_reply.started": "2024-08-20T13:15:45.016456Z"
    }
   },
   "outputs": [
    {
     "name": "stdout",
     "output_type": "stream",
     "text": [
      "\u001b[1m7/7\u001b[0m \u001b[32m━━━━━━━━━━━━━━━━━━━━\u001b[0m\u001b[37m\u001b[0m \u001b[1m3s\u001b[0m 339ms/step\n",
      "79 123\n"
     ]
    }
   ],
   "source": [
    "correct_predictions2 = []\n",
    "incorrect_predictions2 = []\n",
    "\n",
    "predictions = best_model2.predict(X_semi2)\n",
    "for i in range(len(X_semi2)):\n",
    "    if predictions[i] > 0.9:\n",
    "        correct_predictions2.append((z_luna_semi[i], 1))\n",
    "    elif predictions[i] < 0.1:\n",
    "        correct_predictions2.append((z_luna_semi[i], 0))\n",
    "    else:\n",
    "        incorrect_predictions2.append(z_luna_semi[i])\n",
    "\n",
    "print(len(incorrect_predictions2),len(correct_predictions2))\n"
   ]
  },
  {
   "cell_type": "code",
   "execution_count": 15,
   "metadata": {
    "execution": {
     "iopub.execute_input": "2024-08-20T13:15:48.334037Z",
     "iopub.status.busy": "2024-08-20T13:15:48.333661Z",
     "iopub.status.idle": "2024-08-20T13:15:48.339456Z",
     "shell.execute_reply": "2024-08-20T13:15:48.338537Z",
     "shell.execute_reply.started": "2024-08-20T13:15:48.334005Z"
    }
   },
   "outputs": [],
   "source": [
    "df_correct_predictions2 = pd.DataFrame(correct_predictions2, columns=['scan', 'malignancy'])"
   ]
  },
  {
   "cell_type": "markdown",
   "metadata": {},
   "source": [
    "### 3rd train"
   ]
  },
  {
   "cell_type": "code",
   "execution_count": 16,
   "metadata": {
    "execution": {
     "iopub.execute_input": "2024-08-20T13:15:48.342950Z",
     "iopub.status.busy": "2024-08-20T13:15:48.342678Z",
     "iopub.status.idle": "2024-08-20T13:15:48.790876Z",
     "shell.execute_reply": "2024-08-20T13:15:48.789938Z",
     "shell.execute_reply.started": "2024-08-20T13:15:48.342927Z"
    }
   },
   "outputs": [
    {
     "name": "stdout",
     "output_type": "stream",
     "text": [
      "(79, 32, 32, 32)\n"
     ]
    }
   ],
   "source": [
    "datas_semi = []\n",
    "labels_semi = []\n",
    "scans_semi = []\n",
    "\n",
    "for i in incorrect_predictions2:\n",
    "        img_files = glob.glob(os.path.join(\"/kaggle/input/spie-cropped-resampled-dataset/Luna_16_cropped_resampled/Luna_16_cropped_resampled/\", i + \"*.nii\"))\n",
    "\n",
    "        for img_file in img_files:\n",
    "            img = nib.load(img_file)\n",
    "            data = img.get_fdata()\n",
    "            datas_semi.append(data)\n",
    "            scans_semi.append(i)\n",
    "\n",
    "X_semi3 = np.array(datas_semi)\n",
    "z_semi3 = np.array(scans_semi)\n",
    "\n",
    "print(X_semi3.shape)"
   ]
  },
  {
   "cell_type": "code",
   "execution_count": 17,
   "metadata": {
    "execution": {
     "iopub.execute_input": "2024-08-20T13:15:48.792299Z",
     "iopub.status.busy": "2024-08-20T13:15:48.791988Z",
     "iopub.status.idle": "2024-08-20T13:15:52.626560Z",
     "shell.execute_reply": "2024-08-20T13:15:52.625561Z",
     "shell.execute_reply.started": "2024-08-20T13:15:48.792274Z"
    }
   },
   "outputs": [
    {
     "name": "stdout",
     "output_type": "stream",
     "text": [
      "\u001b[1m4/4\u001b[0m \u001b[32m━━━━━━━━━━━━━━━━━━━━\u001b[0m\u001b[37m\u001b[0m \u001b[1m2s\u001b[0m 260ms/step - accuracy: 0.8679 - loss: 0.3386\n"
     ]
    }
   ],
   "source": [
    "best_model3 = tf.keras.models.load_model('/kaggle/input/semi-testtrainval/semiSupervised_HU3.h5')\n",
    "best_model3.compile(optimizer='adam', loss='binary_crossentropy', metrics=['accuracy'])\n",
    "loss3, accuracy3 = best_model3.evaluate(X_luna_fixed_test, y_luna_fixed_test)"
   ]
  },
  {
   "cell_type": "code",
   "execution_count": 18,
   "metadata": {
    "execution": {
     "iopub.execute_input": "2024-08-20T13:15:52.628266Z",
     "iopub.status.busy": "2024-08-20T13:15:52.627951Z",
     "iopub.status.idle": "2024-08-20T13:15:55.882580Z",
     "shell.execute_reply": "2024-08-20T13:15:55.881560Z",
     "shell.execute_reply.started": "2024-08-20T13:15:52.628240Z"
    }
   },
   "outputs": [
    {
     "name": "stdout",
     "output_type": "stream",
     "text": [
      "\u001b[1m3/3\u001b[0m \u001b[32m━━━━━━━━━━━━━━━━━━━━\u001b[0m\u001b[37m\u001b[0m \u001b[1m3s\u001b[0m 1s/step\n",
      "30 49\n"
     ]
    }
   ],
   "source": [
    "correct_predictions3 = []\n",
    "incorrect_predictions3 = []\n",
    "\n",
    "predictions = best_model3.predict(X_semi3)\n",
    "for i in range(len(X_semi3)):\n",
    "    if predictions[i] > 0.9:\n",
    "        correct_predictions3.append((z_luna_semi[i], 1))\n",
    "    elif predictions[i] < 0.1:\n",
    "        correct_predictions3.append((z_luna_semi[i], 0))\n",
    "    else:\n",
    "        incorrect_predictions3.append(z_luna_semi[i])\n",
    "\n",
    "print(len(incorrect_predictions3),len(correct_predictions3))\n",
    "df_correct_predictions3 = pd.DataFrame(correct_predictions3, columns=['scan', 'malignancy'])"
   ]
  },
  {
   "cell_type": "markdown",
   "metadata": {},
   "source": [
    "### 4th"
   ]
  },
  {
   "cell_type": "code",
   "execution_count": 19,
   "metadata": {
    "execution": {
     "iopub.execute_input": "2024-08-20T13:15:55.884022Z",
     "iopub.status.busy": "2024-08-20T13:15:55.883734Z",
     "iopub.status.idle": "2024-08-20T13:15:56.050501Z",
     "shell.execute_reply": "2024-08-20T13:15:56.049544Z",
     "shell.execute_reply.started": "2024-08-20T13:15:55.883998Z"
    }
   },
   "outputs": [
    {
     "name": "stdout",
     "output_type": "stream",
     "text": [
      "(30, 32, 32, 32)\n"
     ]
    }
   ],
   "source": [
    "datas_semi = []\n",
    "labels_semi = []\n",
    "scans_semi = []\n",
    "\n",
    "for i in incorrect_predictions3:\n",
    "        img_files = glob.glob(os.path.join(\"/kaggle/input/spie-cropped-resampled-dataset/Luna_16_cropped_resampled/Luna_16_cropped_resampled/\", i + \"*.nii\"))\n",
    "\n",
    "        for img_file in img_files:\n",
    "            img = nib.load(img_file)\n",
    "            data = img.get_fdata()\n",
    "            datas_semi.append(data)\n",
    "            scans_semi.append(i)\n",
    "\n",
    "X_semi4 = np.array(datas_semi)\n",
    "z_semi4 = np.array(scans_semi)\n",
    "\n",
    "print(X_semi4.shape)"
   ]
  },
  {
   "cell_type": "code",
   "execution_count": 20,
   "metadata": {
    "execution": {
     "iopub.execute_input": "2024-08-20T13:15:56.051975Z",
     "iopub.status.busy": "2024-08-20T13:15:56.051674Z",
     "iopub.status.idle": "2024-08-20T13:15:59.754690Z",
     "shell.execute_reply": "2024-08-20T13:15:59.753709Z",
     "shell.execute_reply.started": "2024-08-20T13:15:56.051949Z"
    }
   },
   "outputs": [
    {
     "name": "stdout",
     "output_type": "stream",
     "text": [
      "\u001b[1m4/4\u001b[0m \u001b[32m━━━━━━━━━━━━━━━━━━━━\u001b[0m\u001b[37m\u001b[0m \u001b[1m2s\u001b[0m 258ms/step - accuracy: 0.8418 - loss: 0.6057\n"
     ]
    }
   ],
   "source": [
    "best_model4 = tf.keras.models.load_model('/kaggle/input/semi-testtrainval/semiSupervised_HU4.h5')\n",
    "best_model4.compile(optimizer='adam', loss='binary_crossentropy', metrics=['accuracy'])\n",
    "loss4, accuracy4 = best_model4.evaluate(X_luna_fixed_test, y_luna_fixed_test)"
   ]
  },
  {
   "cell_type": "code",
   "execution_count": 21,
   "metadata": {
    "execution": {
     "iopub.execute_input": "2024-08-20T13:15:59.757072Z",
     "iopub.status.busy": "2024-08-20T13:15:59.756246Z",
     "iopub.status.idle": "2024-08-20T13:16:02.313785Z",
     "shell.execute_reply": "2024-08-20T13:16:02.312846Z",
     "shell.execute_reply.started": "2024-08-20T13:15:59.757035Z"
    }
   },
   "outputs": [
    {
     "name": "stdout",
     "output_type": "stream",
     "text": [
      "\u001b[1m1/1\u001b[0m \u001b[32m━━━━━━━━━━━━━━━━━━━━\u001b[0m\u001b[37m\u001b[0m \u001b[1m2s\u001b[0m 2s/step\n",
      "(21, 2)\n",
      "9 21\n"
     ]
    }
   ],
   "source": [
    "correct_predictions4 = []\n",
    "incorrect_predictions4 = []\n",
    "\n",
    "predictions = best_model4.predict(X_semi4)\n",
    "for i in range(len(X_semi4)):\n",
    "    if predictions[i] > 0.9:\n",
    "        correct_predictions4.append((z_luna_semi[i], 1))\n",
    "    elif predictions[i] < 0.1:\n",
    "        correct_predictions4.append((z_luna_semi[i], 0))\n",
    "    else:\n",
    "        incorrect_predictions4.append(z_luna_semi[i])\n",
    "\n",
    "# Create a DataFrame with 'scan' and 'malignancy' columns\n",
    "df_correct_predictions4 = pd.DataFrame(correct_predictions4, columns=['scan', 'malignancy'])\n",
    "\n",
    "print(df_correct_predictions4.shape)\n",
    "print(len(incorrect_predictions4),len(correct_predictions4))\n",
    "\n",
    "scan_identifiers_z_train5 = np.array([item[0] for item in correct_predictions4])"
   ]
  },
  {
   "cell_type": "markdown",
   "metadata": {},
   "source": [
    "### 5th"
   ]
  },
  {
   "cell_type": "code",
   "execution_count": 22,
   "metadata": {
    "execution": {
     "iopub.execute_input": "2024-08-20T13:16:02.315070Z",
     "iopub.status.busy": "2024-08-20T13:16:02.314797Z",
     "iopub.status.idle": "2024-08-20T13:16:02.377178Z",
     "shell.execute_reply": "2024-08-20T13:16:02.376257Z",
     "shell.execute_reply.started": "2024-08-20T13:16:02.315047Z"
    }
   },
   "outputs": [
    {
     "name": "stdout",
     "output_type": "stream",
     "text": [
      "(9, 32, 32, 32)\n"
     ]
    }
   ],
   "source": [
    "datas_semi = []\n",
    "labels_semi = []\n",
    "scans_semi = []\n",
    "\n",
    "for i in incorrect_predictions4:\n",
    "        img_files = glob.glob(os.path.join(\"/kaggle/input/spie-cropped-resampled-dataset/Luna_16_cropped_resampled/Luna_16_cropped_resampled/\", i + \"*.nii\"))\n",
    "\n",
    "        for img_file in img_files:\n",
    "            img = nib.load(img_file)\n",
    "            data = img.get_fdata()\n",
    "            datas_semi.append(data)\n",
    "            scans_semi.append(i)\n",
    "\n",
    "X_semi5 = np.array(datas_semi)\n",
    "z_semi5 = np.array(scans_semi)\n",
    "\n",
    "print(X_semi5.shape)"
   ]
  },
  {
   "cell_type": "code",
   "execution_count": 23,
   "metadata": {
    "execution": {
     "iopub.execute_input": "2024-08-20T13:16:02.378568Z",
     "iopub.status.busy": "2024-08-20T13:16:02.378267Z",
     "iopub.status.idle": "2024-08-20T13:16:06.467460Z",
     "shell.execute_reply": "2024-08-20T13:16:06.466543Z",
     "shell.execute_reply.started": "2024-08-20T13:16:02.378544Z"
    }
   },
   "outputs": [
    {
     "name": "stdout",
     "output_type": "stream",
     "text": [
      "\u001b[1m4/4\u001b[0m \u001b[32m━━━━━━━━━━━━━━━━━━━━\u001b[0m\u001b[37m\u001b[0m \u001b[1m3s\u001b[0m 277ms/step - accuracy: 0.8560 - loss: 0.4192\n"
     ]
    }
   ],
   "source": [
    "best_model5 = tf.keras.models.load_model('/kaggle/input/semi-testtrainval/semiSupervised_HU5.h5')\n",
    "best_model5.compile(optimizer='adam', loss='binary_crossentropy', metrics=['accuracy'])\n",
    "loss5, accuracy5 = best_model5.evaluate(X_luna_fixed_test, y_luna_fixed_test)"
   ]
  },
  {
   "cell_type": "code",
   "execution_count": 24,
   "metadata": {
    "execution": {
     "iopub.execute_input": "2024-08-20T13:16:06.469127Z",
     "iopub.status.busy": "2024-08-20T13:16:06.468837Z",
     "iopub.status.idle": "2024-08-20T13:16:08.363788Z",
     "shell.execute_reply": "2024-08-20T13:16:08.362858Z",
     "shell.execute_reply.started": "2024-08-20T13:16:06.469102Z"
    }
   },
   "outputs": [
    {
     "name": "stdout",
     "output_type": "stream",
     "text": [
      "\u001b[1m1/1\u001b[0m \u001b[32m━━━━━━━━━━━━━━━━━━━━\u001b[0m\u001b[37m\u001b[0m \u001b[1m2s\u001b[0m 2s/step\n",
      "6 3\n"
     ]
    }
   ],
   "source": [
    "predictions = best_model5.predict(X_semi5)\n",
    "\n",
    "correct_predictions5 = []\n",
    "incorrect_predictions5 = []\n",
    "\n",
    "for i in range(len(X_semi5)):\n",
    "    if predictions[i] > 0.9:\n",
    "        correct_predictions5.append((z_luna_semi[i], 1))\n",
    "    elif predictions[i] < 0.1:\n",
    "        correct_predictions5.append((z_luna_semi[i], 0))\n",
    "    else:\n",
    "        incorrect_predictions5.append(z_luna_semi[i])\n",
    "\n",
    "# Create a DataFrame with 'scan' and 'malignancy' columns\n",
    "df_correct_predictions5 = pd.DataFrame(correct_predictions5, columns=['scan', 'malignancy'])\n",
    "\n",
    "print(len(incorrect_predictions5), len(correct_predictions5))\n",
    "\n",
    "scan_identifiers_z_train6 = np.array([item[0] for item in correct_predictions5])"
   ]
  },
  {
   "cell_type": "code",
   "execution_count": 25,
   "metadata": {
    "execution": {
     "iopub.execute_input": "2024-08-20T13:16:08.365857Z",
     "iopub.status.busy": "2024-08-20T13:16:08.365075Z",
     "iopub.status.idle": "2024-08-20T13:16:08.427306Z",
     "shell.execute_reply": "2024-08-20T13:16:08.426454Z",
     "shell.execute_reply.started": "2024-08-20T13:16:08.365819Z"
    }
   },
   "outputs": [
    {
     "name": "stdout",
     "output_type": "stream",
     "text": [
      "Excel file saved as /kaggle/working/combined_correct_predictions.xlsx\n"
     ]
    }
   ],
   "source": [
    "df_combined = pd.concat(\n",
    "    [\n",
    "        df_correct_predictions1,\n",
    "        df_correct_predictions2,\n",
    "        df_correct_predictions3,\n",
    "        df_correct_predictions4,\n",
    "        df_correct_predictions5\n",
    "    ],\n",
    "    ignore_index=True\n",
    ")\n",
    "\n",
    "# Specify the file path for the Excel file\n",
    "file_path = '/kaggle/working/combined_correct_predictions.xlsx'\n",
    "\n",
    "# Write the combined DataFrame to a single Excel sheet\n",
    "df_combined.to_excel(file_path, index=False)\n",
    "\n",
    "print(f\"Excel file saved as {file_path}\")\n"
   ]
  },
  {
   "cell_type": "code",
   "execution_count": null,
   "metadata": {},
   "outputs": [],
   "source": []
  }
 ],
 "metadata": {
  "kaggle": {
   "accelerator": "gpu",
   "dataSources": [
    {
     "datasetId": 3974254,
     "sourceId": 7321302,
     "sourceType": "datasetVersion"
    },
    {
     "datasetId": 5536429,
     "sourceId": 9205484,
     "sourceType": "datasetVersion"
    }
   ],
   "dockerImageVersionId": 30747,
   "isGpuEnabled": true,
   "isInternetEnabled": true,
   "language": "python",
   "sourceType": "notebook"
  },
  "kernelspec": {
   "display_name": "Python 3 (ipykernel)",
   "language": "python",
   "name": "python3"
  },
  "language_info": {
   "codemirror_mode": {
    "name": "ipython",
    "version": 3
   },
   "file_extension": ".py",
   "mimetype": "text/x-python",
   "name": "python",
   "nbconvert_exporter": "python",
   "pygments_lexer": "ipython3",
   "version": "3.9.12"
  }
 },
 "nbformat": 4,
 "nbformat_minor": 4
}
